{
 "cells": [
  {
   "cell_type": "code",
   "execution_count": 1,
   "metadata": {},
   "outputs": [
    {
     "data": {
      "text/plain": [
       "'/home/vuiem/MLOPs/DataScienceProject/research'"
      ]
     },
     "execution_count": 1,
     "metadata": {},
     "output_type": "execute_result"
    }
   ],
   "source": [
    "%pwd"
   ]
  },
  {
   "cell_type": "code",
   "execution_count": 2,
   "metadata": {},
   "outputs": [
    {
     "data": {
      "text/plain": [
       "'/home/vuiem/MLOPs/DataScienceProject'"
      ]
     },
     "execution_count": 2,
     "metadata": {},
     "output_type": "execute_result"
    }
   ],
   "source": [
    "import os \n",
    "os.chdir(\"../\")\n",
    "%pwd "
   ]
  },
  {
   "cell_type": "code",
   "execution_count": 3,
   "metadata": {},
   "outputs": [],
   "source": [
    "import pandas as pd \n",
    "from src.datascience.utils.common import create_directories, read_yaml \n",
    "from src.datascience.constants import * \n",
    "from dataclasses import dataclass "
   ]
  },
  {
   "cell_type": "code",
   "execution_count": 4,
   "metadata": {},
   "outputs": [
    {
     "name": "stdout",
     "output_type": "stream",
     "text": [
      "yaml file: config/config.yaml loaded successfully\n",
      "yaml file: schema.yaml loaded successfully\n"
     ]
    }
   ],
   "source": [
    "@dataclass\n",
    "class DataValidationConfig:\n",
    "    root_dir: str  \n",
    "    unzip_data_file: str \n",
    "    status_file: str \n",
    "    all_schema: dict \n",
    "    \n",
    "class ConfigurationManager:\n",
    "    def __init__(self,\n",
    "                 config_filepath=CONFIG_FILE_PATH,\n",
    "                 schema_filepath=SCHEMA_FILE_PATH):\n",
    "        self.config=read_yaml(config_filepath)\n",
    "        self.schema=read_yaml(schema_filepath)\n",
    "\n",
    "    def get_data_validation_config(self) -> DataValidationConfig:\n",
    "        data_validation_config=DataValidationConfig(\n",
    "            root_dir=self.config.data_validation.root_dir,\n",
    "            unzip_data_file=self.config.data_validation.unzip_data_file,\n",
    "            status_file=self.config.data_validation.status_file,\n",
    "            all_schema=self.schema.COLUMNS\n",
    "        )\n",
    "        return data_validation_config\n",
    "    \n",
    "class DataValidation:\n",
    "    def __init__(self, config: DataValidationConfig):\n",
    "        self.config = config\n",
    "        \n",
    "    def validate_data(self):\n",
    "        if not os.path.exists(self.config.unzip_data_file):\n",
    "            raise FileNotFoundError(f\"Data file {self.config.unzip_data_file} not found.\")\n",
    "        \n",
    "        if not os.path.exists(self.config.root_dir):\n",
    "            os.makedirs(self.config.root_dir)\n",
    "        data = pd.read_csv(self.config.unzip_data_file)\n",
    "        cols = list(data.columns)\n",
    "        schemas = self.config.all_schema    \n",
    "\n",
    "        status = True\n",
    "        for col in cols:\n",
    "            if col not in schemas:\n",
    "                status = False\n",
    "                with open(self.config.status_file, 'a') as f:\n",
    "                    f.write(f\"{col} is not in the schema.\\n\")\n",
    "            else:\n",
    "                with open(self.config.status_file, 'a') as f:\n",
    "                    f.write(f\"{col} is in the schema.\\n\")\n",
    "\n",
    "        with open(self.config.status_file, 'a') as f:\n",
    "            f.write(f\"Data Validation Status: {status}\\n\")\n",
    "        \n",
    "                \n",
    "config_manager = ConfigurationManager()\n",
    "data_validation_config = config_manager.get_data_validation_config()\n",
    "data_validation = DataValidation(config=data_validation_config)\n",
    "data_validation.validate_data()"
   ]
  },
  {
   "cell_type": "code",
   "execution_count": 5,
   "metadata": {},
   "outputs": [
    {
     "name": "stdout",
     "output_type": "stream",
     "text": [
      "<class 'pandas.core.frame.DataFrame'>\n",
      "RangeIndex: 1599 entries, 0 to 1598\n",
      "Data columns (total 12 columns):\n",
      " #   Column                Non-Null Count  Dtype  \n",
      "---  ------                --------------  -----  \n",
      " 0   fixed acidity         1599 non-null   float64\n",
      " 1   volatile acidity      1599 non-null   float64\n",
      " 2   citric acid           1599 non-null   float64\n",
      " 3   residual sugar        1599 non-null   float64\n",
      " 4   chlorides             1599 non-null   float64\n",
      " 5   free sulfur dioxide   1599 non-null   float64\n",
      " 6   total sulfur dioxide  1599 non-null   float64\n",
      " 7   density               1599 non-null   float64\n",
      " 8   pH                    1599 non-null   float64\n",
      " 9   sulphates             1599 non-null   float64\n",
      " 10  alcohol               1599 non-null   float64\n",
      " 11  quality               1599 non-null   int64  \n",
      "dtypes: float64(11), int64(1)\n",
      "memory usage: 150.0 KB\n"
     ]
    }
   ],
   "source": [
    "import pandas as pd \n",
    "\n",
    "df = pd.read_csv(\"artifacts/data_ingestion/winequality-red.csv\")\n",
    "df.info()"
   ]
  }
 ],
 "metadata": {
  "kernelspec": {
   "display_name": "Python 3",
   "language": "python",
   "name": "python3"
  },
  "language_info": {
   "codemirror_mode": {
    "name": "ipython",
    "version": 3
   },
   "file_extension": ".py",
   "mimetype": "text/x-python",
   "name": "python",
   "nbconvert_exporter": "python",
   "pygments_lexer": "ipython3",
   "version": "3.10.12"
  }
 },
 "nbformat": 4,
 "nbformat_minor": 2
}
